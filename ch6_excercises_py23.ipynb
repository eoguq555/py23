{
  "nbformat": 4,
  "nbformat_minor": 0,
  "metadata": {
    "colab": {
      "name": "ch6_excercises_py23.ipynb",
      "provenance": [],
      "collapsed_sections": [],
      "toc_visible": true
    },
    "kernelspec": {
      "name": "python3",
      "display_name": "Python 3"
    }
  },
  "cells": [
    {
      "cell_type": "markdown",
      "metadata": {
        "id": "-SlyBkz7cEvQ",
        "colab_type": "text"
      },
      "source": [
        "###문제 1. 내가 프로그램을 만들 수 있을까?\n",
        "\n"
      ]
    },
    {
      "cell_type": "markdown",
      "metadata": {
        "id": "NSwsHY-NdgAe",
        "colab_type": "text"
      },
      "source": [
        "구구단 출력"
      ]
    },
    {
      "cell_type": "code",
      "metadata": {
        "id": "7XVhnjs5cSJN",
        "colab_type": "code",
        "colab": {}
      },
      "source": [
        "# [Q1] Code  1\n",
        "def GuGu0(n):\n",
        "    result = []\n",
        "    result.append(n * 1)\n",
        "    result.append(n * 2)\n",
        "    result.append(n * 3)\n",
        "    result.append(n * 4)\n",
        "    result.append(n * 5)\n",
        "    result.append(n * 6)\n",
        "    result.append(n * 7)\n",
        "    result.append(n * 8)\n",
        "    result.append(n * 9)\n",
        "    return result\n",
        "    print(GuGu0(2))"
      ],
      "execution_count": 0,
      "outputs": []
    },
    {
      "cell_type": "code",
      "metadata": {
        "id": "BV9za_T6cUEk",
        "colab_type": "code",
        "outputId": "bfa41d0a-64f6-469b-a87e-74710f08b8af",
        "colab": {
          "base_uri": "https://localhost:8080/",
          "height": 35
        }
      },
      "source": [
        "# [Q1] Code  2\n",
        "def GuGu(n):\n",
        "    result = []\n",
        "    i = 1\n",
        "    while i < 10:\n",
        "        result.append(n * i)\n",
        "        i = i + 1\n",
        "    return result\n",
        "\n",
        "\n",
        "print(GuGu(2))"
      ],
      "execution_count": 0,
      "outputs": [
        {
          "output_type": "stream",
          "text": [
            "[2, 4, 6, 8, 10, 12, 14, 16, 18]\n"
          ],
          "name": "stdout"
        }
      ]
    },
    {
      "cell_type": "markdown",
      "metadata": {
        "id": "ChFA63_ccEkA",
        "colab_type": "text"
      },
      "source": [
        "###문제 2. 3과 5의 배수 합하기"
      ]
    },
    {
      "cell_type": "markdown",
      "metadata": {
        "id": "RzCcJzqtdZ09",
        "colab_type": "text"
      },
      "source": [
        "10 미만의 자연수에서 3과 5의 배수를 구하면 3, 5, 6, 9이다.\n",
        "\n",
        "이들의 총합은 23이다.\n",
        "\n",
        "1000 미만의 자연수에서 3의 배수와 5의 배수의 총합을 구하라."
      ]
    },
    {
      "cell_type": "code",
      "metadata": {
        "id": "OK6-gK3OceN9",
        "colab_type": "code",
        "outputId": "a787269c-9d83-4227-ff6f-b9fb12fd2562",
        "colab": {
          "base_uri": "https://localhost:8080/",
          "height": 35
        }
      },
      "source": [
        "# [Q2] Code  1\n",
        "result = 0\n",
        "for n in range(1, 1000):\n",
        "    if n % 3 == 0 or n % 5 == 0:\n",
        "        result += n\n",
        "print(result)"
      ],
      "execution_count": 0,
      "outputs": [
        {
          "output_type": "stream",
          "text": [
            "233168\n"
          ],
          "name": "stdout"
        }
      ]
    },
    {
      "cell_type": "code",
      "metadata": {
        "id": "IDrTgZuEcuY_",
        "colab_type": "code",
        "outputId": "acd4f242-3833-4195-b069-49c545dbea51",
        "colab": {
          "base_uri": "https://localhost:8080/",
          "height": 54
        }
      },
      "source": [
        "# [Q2] Code  2\n",
        "result_w = 0\n",
        "for n in range(1, 1000):\n",
        "    if n % 3 == 0:\n",
        "        result_w += n\n",
        "    if n % 5 == 0:\n",
        "        result_w += n\n",
        "        \n",
        "result_3_5 = 0\n",
        "for n in range(1, 1000):\n",
        "    if n % 3 == 0 and n % 5 == 0:\n",
        "        result_3_5 += n\n",
        "print(result_3_5)\n",
        "\n",
        "(result_w - result_3_5) == result"
      ],
      "execution_count": 0,
      "outputs": [
        {
          "output_type": "stream",
          "text": [
            "33165\n"
          ],
          "name": "stdout"
        },
        {
          "output_type": "execute_result",
          "data": {
            "text/plain": [
              "True"
            ]
          },
          "metadata": {
            "tags": []
          },
          "execution_count": 23
        }
      ]
    },
    {
      "cell_type": "code",
      "metadata": {
        "id": "z25DAQz6d47l",
        "colab_type": "code",
        "colab": {}
      },
      "source": [
        ""
      ],
      "execution_count": 0,
      "outputs": []
    },
    {
      "cell_type": "markdown",
      "metadata": {
        "id": "RgJdDuPXcEZI",
        "colab_type": "text"
      },
      "source": [
        "###문제 3. 게시판 페이징하기"
      ]
    },
    {
      "cell_type": "markdown",
      "metadata": {
        "id": "cBoNR-hPdAu-",
        "colab_type": "text"
      },
      "source": [
        "A 씨는 게시판 프로그램을 작성하고 있다.\n",
        "그런데 게시물의 총 건수와 한 페이지에 보여 줄\n",
        "게시물 수를 입력으로 주었을 때\n",
        "총 페이지 수를 출력하는 프로그램을 만들어보자.\n",
        "\n",
        "한 페이지에서 보여 줄 게시물 수가 최대 10\n",
        "\n",
        "총 페이지 수 = (총 건수 / 한 페이지당 보여 줄 건수) + 1"
      ]
    },
    {
      "cell_type": "code",
      "metadata": {
        "id": "pTp55j-9c-6Q",
        "colab_type": "code",
        "outputId": "de77d708-b013-4c2b-b718-eeb72ee82a92",
        "colab": {
          "base_uri": "https://localhost:8080/",
          "height": 90
        }
      },
      "source": [
        "# [Q3] Code 1 잘못된 예\n",
        "def getTotalPage(m, n):\n",
        "    return m // n + 1\n",
        "\n",
        "\n",
        "print(getTotalPage(5, 10))  # 1 출력\n",
        "print(getTotalPage(15, 10))  # 2 출력\n",
        "print(getTotalPage(25, 10))  # 3 출력\n",
        "print(getTotalPage(30, 10))  # 4 출력, Wrong!"
      ],
      "execution_count": 0,
      "outputs": [
        {
          "output_type": "stream",
          "text": [
            "1\n",
            "2\n",
            "3\n",
            "4\n"
          ],
          "name": "stdout"
        }
      ]
    },
    {
      "cell_type": "code",
      "metadata": {
        "id": "IWppmNqzeN4e",
        "colab_type": "code",
        "outputId": "8bcf0984-8e64-4a11-f34b-1952760182fb",
        "colab": {
          "base_uri": "https://localhost:8080/",
          "height": 90
        }
      },
      "source": [
        "# [Q3] Code 2\n",
        "def getTotalPage(m, n):\n",
        "    if m % n == 0:\n",
        "        return m // n\n",
        "    else:\n",
        "        return m // n + 1\n",
        "\n",
        "print(getTotalPage(5, 10))\n",
        "print(getTotalPage(15, 10))\n",
        "print(getTotalPage(25, 10))\n",
        "print(getTotalPage(30, 10))"
      ],
      "execution_count": 0,
      "outputs": [
        {
          "output_type": "stream",
          "text": [
            "1\n",
            "2\n",
            "3\n",
            "3\n"
          ],
          "name": "stdout"
        }
      ]
    },
    {
      "cell_type": "markdown",
      "metadata": {
        "id": "76eEmO3SX5bj",
        "colab_type": "text"
      },
      "source": [
        "###문제 4. 메모장 만들기"
      ]
    },
    {
      "cell_type": "markdown",
      "metadata": {
        "id": "T9OtCSA-ejKc",
        "colab_type": "text"
      },
      "source": [
        "원하는 메모를 파일에 저장하고 추가 및 조회가\n",
        "가능한 간단한 메모장을 만들어 보자.\n",
        "\n",
        "필요한 기능은? 메모 추가하기, 메모 조회하기\n",
        "\n",
        "입력 받는 값은? 메모 내용, 프로그램 실행 옵션\n",
        "\n",
        "출력하는 값은? memo.txt"
      ]
    },
    {
      "cell_type": "code",
      "metadata": {
        "id": "po29U_ZeX9jL",
        "colab_type": "code",
        "outputId": "e69c6afa-2e5e-45d4-b188-eca4450e0314",
        "colab": {
          "base_uri": "https://localhost:8080/",
          "height": 35
        }
      },
      "source": [
        "ls"
      ],
      "execution_count": 0,
      "outputs": [
        {
          "output_type": "stream",
          "text": [
            "memo.py  \u001b[0m\u001b[01;34msample_data\u001b[0m/\n"
          ],
          "name": "stdout"
        }
      ]
    },
    {
      "cell_type": "code",
      "metadata": {
        "id": "doi_vF-qYgsk",
        "colab_type": "code",
        "colab": {}
      },
      "source": [
        "mkdir 'doit'"
      ],
      "execution_count": 0,
      "outputs": []
    },
    {
      "cell_type": "code",
      "metadata": {
        "id": "DYVrtP4tY6XJ",
        "colab_type": "code",
        "outputId": "da151124-596f-47b5-c416-f4a69c055245",
        "colab": {
          "base_uri": "https://localhost:8080/",
          "height": 35
        }
      },
      "source": [
        "ls"
      ],
      "execution_count": 0,
      "outputs": [
        {
          "output_type": "stream",
          "text": [
            "\u001b[0m\u001b[01;34mdoit\u001b[0m/  memo.py  \u001b[01;34msample_data\u001b[0m/\n"
          ],
          "name": "stdout"
        }
      ]
    },
    {
      "cell_type": "code",
      "metadata": {
        "id": "jiFKbNLUZod2",
        "colab_type": "code",
        "colab": {}
      },
      "source": [
        "mv memo.py ./doit"
      ],
      "execution_count": 0,
      "outputs": []
    },
    {
      "cell_type": "code",
      "metadata": {
        "id": "KeyBTXuzZosP",
        "colab_type": "code",
        "outputId": "fbec1c3b-dd8e-4933-9b86-30d9a2f6d75d",
        "colab": {
          "base_uri": "https://localhost:8080/",
          "height": 35
        }
      },
      "source": [
        "cd doit"
      ],
      "execution_count": 0,
      "outputs": [
        {
          "output_type": "stream",
          "text": [
            "/content/doit\n"
          ],
          "name": "stdout"
        }
      ]
    },
    {
      "cell_type": "code",
      "metadata": {
        "id": "QdUv9JWcZo-G",
        "colab_type": "code",
        "outputId": "b5dff8bc-d4fc-498a-f9da-bb092d3783b4",
        "colab": {
          "base_uri": "https://localhost:8080/",
          "height": 35
        }
      },
      "source": [
        "pwd"
      ],
      "execution_count": 0,
      "outputs": [
        {
          "output_type": "execute_result",
          "data": {
            "text/plain": [
              "'/content/doit'"
            ]
          },
          "metadata": {
            "tags": []
          },
          "execution_count": 80
        }
      ]
    },
    {
      "cell_type": "code",
      "metadata": {
        "id": "_2ItTl57ZzBm",
        "colab_type": "code",
        "colab": {}
      },
      "source": [
        "!python memo.py -a \"Py coding is fun!!\""
      ],
      "execution_count": 0,
      "outputs": []
    },
    {
      "cell_type": "code",
      "metadata": {
        "id": "qyk-FV1Sfhmd",
        "colab_type": "code",
        "outputId": "130e7c2c-9f83-43c8-f85e-b53ef24c91c0",
        "colab": {
          "base_uri": "https://localhost:8080/",
          "height": 54
        }
      },
      "source": [
        "!python memo.py -v"
      ],
      "execution_count": 0,
      "outputs": [
        {
          "output_type": "stream",
          "text": [
            "Py coding is fun!!\n",
            "\n"
          ],
          "name": "stdout"
        }
      ]
    },
    {
      "cell_type": "markdown",
      "metadata": {
        "id": "FM0ChRn8hL99",
        "colab_type": "text"
      },
      "source": [
        "###문제 5. 탭을 4개의 공백으로 바꾸기"
      ]
    },
    {
      "cell_type": "code",
      "metadata": {
        "id": "CfDrJSqbhOYP",
        "colab_type": "code",
        "outputId": "02d3a76a-b83a-4daf-829f-bd5852cf752c",
        "colab": {
          "base_uri": "https://localhost:8080/",
          "height": 35
        }
      },
      "source": [
        "cd .."
      ],
      "execution_count": 0,
      "outputs": [
        {
          "output_type": "stream",
          "text": [
            "/content\n"
          ],
          "name": "stdout"
        }
      ]
    },
    {
      "cell_type": "code",
      "metadata": {
        "id": "anKCVHsShT66",
        "colab_type": "code",
        "outputId": "e5f482eb-6f45-4475-9f11-44d4b0534306",
        "colab": {
          "base_uri": "https://localhost:8080/",
          "height": 35
        }
      },
      "source": [
        "ls"
      ],
      "execution_count": 0,
      "outputs": [
        {
          "output_type": "stream",
          "text": [
            "\u001b[0m\u001b[01;34mdoit\u001b[0m/  \u001b[01;34msample_data\u001b[0m/  sub_dir_search.py  tabto4.py\n"
          ],
          "name": "stdout"
        }
      ]
    },
    {
      "cell_type": "code",
      "metadata": {
        "id": "FqvfUL7KhWic",
        "colab_type": "code",
        "colab": {}
      },
      "source": [
        "mv a.txt ./doit/"
      ],
      "execution_count": 0,
      "outputs": []
    },
    {
      "cell_type": "code",
      "metadata": {
        "id": "XiIskb0ehmc8",
        "colab_type": "code",
        "colab": {}
      },
      "source": [
        "mv tabto4.py ./doit/"
      ],
      "execution_count": 0,
      "outputs": []
    },
    {
      "cell_type": "code",
      "metadata": {
        "id": "PUAKreckhoWZ",
        "colab_type": "code",
        "outputId": "3a555647-d0f9-4251-a8a1-c49d430903f0",
        "colab": {
          "base_uri": "https://localhost:8080/",
          "height": 35
        }
      },
      "source": [
        "cd doit"
      ],
      "execution_count": 0,
      "outputs": [
        {
          "output_type": "stream",
          "text": [
            "/content/doit\n"
          ],
          "name": "stdout"
        }
      ]
    },
    {
      "cell_type": "code",
      "metadata": {
        "id": "6W6ZLIHqhrCe",
        "colab_type": "code",
        "outputId": "3c6b886f-c355-4193-e7e2-8c50b1bc557a",
        "colab": {
          "base_uri": "https://localhost:8080/",
          "height": 35
        }
      },
      "source": [
        "pwd"
      ],
      "execution_count": 0,
      "outputs": [
        {
          "output_type": "execute_result",
          "data": {
            "text/plain": [
              "'/content/doit'"
            ]
          },
          "metadata": {
            "tags": []
          },
          "execution_count": 96
        }
      ]
    },
    {
      "cell_type": "code",
      "metadata": {
        "id": "sTzrfRzbhsK9",
        "colab_type": "code",
        "outputId": "32d0c0b9-adaa-43a5-a384-d733c47a0fc0",
        "colab": {
          "base_uri": "https://localhost:8080/",
          "height": 54
        }
      },
      "source": [
        "!python tabto4.py a.txt b.txt"
      ],
      "execution_count": 0,
      "outputs": [
        {
          "output_type": "stream",
          "text": [
            "Life    is  too short\n",
            "You need    python\n"
          ],
          "name": "stdout"
        }
      ]
    },
    {
      "cell_type": "markdown",
      "metadata": {
        "id": "n4_kjS6xf5kf",
        "colab_type": "text"
      },
      "source": [
        "###문제 6. 폴더 내의 특정 파일 검색"
      ]
    },
    {
      "cell_type": "code",
      "metadata": {
        "id": "wGmGG7_CggwO",
        "colab_type": "code",
        "outputId": "7f654675-a7c4-4067-ac2e-aa7f7f0f4261",
        "colab": {
          "base_uri": "https://localhost:8080/",
          "height": 55
        }
      },
      "source": [
        "'''\n",
        "# ./ch06/sub_dir_search.py\n",
        "import os\n",
        "\n",
        "def search(dirname):\n",
        "    try:\n",
        "        filenames = os.listdir(dirname)\n",
        "        for filename in filenames:\n",
        "            full_filename = os.path.join(dirname, filename)\n",
        "            if os.path.isdir(full_filename):\n",
        "                search(full_filename)\n",
        "            else:\n",
        "                ext = os.path.splitext(full_filename)[-1]\n",
        "                if ext == '.py': \n",
        "                    print(full_filename)\n",
        "    except PermissionError:\n",
        "        pass\n",
        "\n",
        "search(\"./\")\n",
        "'''"
      ],
      "execution_count": 0,
      "outputs": [
        {
          "output_type": "execute_result",
          "data": {
            "text/plain": [
              "'\\n# ./ch06/sub_dir_search.py\\nimport os\\n\\ndef search(dirname):\\n    try:\\n        filenames = os.listdir(dirname)\\n        for filename in filenames:\\n            full_filename = os.path.join(dirname, filename)\\n            if os.path.isdir(full_filename):\\n                search(full_filename)\\n            else:\\n                ext = os.path.splitext(full_filename)[-1]\\n                if ext == \\'.py\\': \\n                    print(full_filename)\\n    except PermissionError:\\n        pass\\n\\nsearch(\"./\")\\n'"
            ]
          },
          "metadata": {
            "tags": []
          },
          "execution_count": 48
        }
      ]
    },
    {
      "cell_type": "code",
      "metadata": {
        "id": "shbWtANugJcO",
        "colab_type": "code",
        "outputId": "65d95b97-a405-4862-c461-c652ef0d16d2",
        "colab": {
          "base_uri": "https://localhost:8080/",
          "height": 54
        }
      },
      "source": [
        "!python sub_dir_search.py"
      ],
      "execution_count": 0,
      "outputs": [
        {
          "output_type": "stream",
          "text": [
            "./memo.py\n",
            "./sub_dir_search.py\n"
          ],
          "name": "stdout"
        }
      ]
    }
  ]
}